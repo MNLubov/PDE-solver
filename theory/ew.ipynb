{
 "cells": [
  {
   "cell_type": "markdown",
   "metadata": {},
   "source": [
    "# Edwards-Wilkinson equation"
   ]
  },
  {
   "cell_type": "markdown",
   "metadata": {},
   "source": [
    "The Edwards–Wilkinson (EW) equation is given by:\n",
    "\n",
    "$$\n",
    "\\frac{\\partial h(x,t)}{\\partial t} = \\nu\\, \\nabla^2 h(x,t)\n",
    "$$\n",
    "\n",
    "where:\n",
    "- \\( h(x,t) \\) is the height profile,\n",
    "- \\( \\nu \\) is the diffusion coefficient,\n",
    "- and \\( \\nabla^2 \\) is the Laplacian operator.\n"
   ]
  }
 ],
 "metadata": {
  "language_info": {
   "name": "python"
  }
 },
 "nbformat": 4,
 "nbformat_minor": 2
}
